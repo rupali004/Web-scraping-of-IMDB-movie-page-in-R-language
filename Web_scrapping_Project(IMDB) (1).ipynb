{
  "cells": [
    {
      "cell_type": "markdown",
      "source": [
        "**Web Scrapping Project in R language**"
      ],
      "metadata": {
        "id": "coVtu9GKvpOO"
      }
    },
    {
      "cell_type": "code",
      "source": [
        "install.packages(\"rvest\")\n",
        "library(\"rvest\")"
      ],
      "metadata": {
        "colab": {
          "base_uri": "https://localhost:8080/"
        },
        "id": "zG7af-izkN3l",
        "outputId": "f06540e5-8ff6-4a20-afa2-49f29ab88ac7"
      },
      "execution_count": null,
      "outputs": [
        {
          "output_type": "stream",
          "name": "stderr",
          "text": [
            "Installing package into ‘/usr/local/lib/R/site-library’\n",
            "(as ‘lib’ is unspecified)\n",
            "\n"
          ]
        }
      ]
    },
    {
      "cell_type": "code",
      "source": [
        "# Web Scraping is the automatic process of data extraction from websites\n",
        "Web Scraping Using R..!\n",
        "Step 1- Select the website & the data you want to scrape. ...\n",
        "Step 2- Get to know the HTML tags using SelectorGadget. ...\n",
        "Step 3- R Code.\n",
        "Step 4- Set the url of the website.\n",
        "Step 5- Find the HTML tags using SelectorGadget. ...\n",
        "Step 6- Include the tag in our Code. ...\n",
        "Step 7- Creating DataFrame"
      ],
      "metadata": {
        "id": "kN4q6NjCjs7g"
      },
      "execution_count": null,
      "outputs": []
    },
    {
      "cell_type": "code",
      "source": [
        "link <- \"https://www.imdb.com/search/title/?title_type=feature&num_votes=25000,&genres=adventure&sort=user_rating,desc\""
      ],
      "metadata": {
        "id": "8XEZbDgfacff"
      },
      "execution_count": null,
      "outputs": []
    },
    {
      "cell_type": "code",
      "source": [
        "link = \"https://www.imdb.com/search/title/?title_type=feature&num_votes=25000,&genres=adventure&sort=user_rating,desc\"\n",
        "page = read_html(link)\n",
        "page"
      ],
      "metadata": {
        "colab": {
          "base_uri": "https://localhost:8080/",
          "height": 86
        },
        "id": "C3cUD9eEV7c9",
        "outputId": "a0a4731b-4a99-4066-d3c1-4197a0c5ac16"
      },
      "execution_count": null,
      "outputs": [
        {
          "output_type": "display_data",
          "data": {
            "text/plain": [
              "{html_document}\n",
              "<html xmlns:og=\"http://ogp.me/ns#\" xmlns:fb=\"http://www.facebook.com/2008/fbml\">\n",
              "[1] <head>\\n<meta http-equiv=\"Content-Type\" content=\"text/html; charset=UTF-8 ...\n",
              "[2] <body id=\"styleguide-v2\" class=\"fixed\">\\n            <img height=\"1\" widt ..."
            ]
          },
          "metadata": {}
        }
      ]
    },
    {
      "cell_type": "code",
      "source": [
        "# Extract name of movies\n",
        "name = page %>% html_nodes(\".lister-item-header a\") %>% html_text()\n",
        "print(name)"
      ],
      "metadata": {
        "colab": {
          "base_uri": "https://localhost:8080/"
        },
        "id": "fUcSGsnIVnd5",
        "outputId": "28a258a8-2ccd-461e-ba79-ad4c36aa70ae"
      },
      "execution_count": null,
      "outputs": [
        {
          "output_type": "stream",
          "name": "stdout",
          "text": [
            " [1] \"The Lord of the Rings: The Return of the King\"         \n",
            " [2] \"777 Charlie\"                                           \n",
            " [3] \"The Lord of the Rings: The Fellowship of the Ring\"     \n",
            " [4] \"Inception\"                                             \n",
            " [5] \"The Lord of the Rings: The Two Towers\"                 \n",
            " [6] \"The Good, the Bad and the Ugly\"                        \n",
            " [7] \"Star Wars: Episode V - The Empire Strikes Back\"        \n",
            " [8] \"Interstellar\"                                          \n",
            " [9] \"Star Wars\"                                             \n",
            "[10] \"Spirited Away\"                                         \n",
            "[11] \"Back to the Future\"                                    \n",
            "[12] \"Gladiator\"                                             \n",
            "[13] \"The Lion King\"                                         \n",
            "[14] \"Kaithi\"                                                \n",
            "[15] \"Avengers: Endgame\"                                     \n",
            "[16] \"Spider-Man: Into the Spider-Verse\"                     \n",
            "[17] \"Avengers: Infinity War\"                                \n",
            "[18] \"Raiders of the Lost Ark\"                               \n",
            "[19] \"Aliens\"                                                \n",
            "[20] \"Coco\"                                                  \n",
            "[21] \"WALL·E\"                                                \n",
            "[22] \"Princess Mononoke\"                                     \n",
            "[23] \"Inglourious Basterds\"                                  \n",
            "[24] \"2001: A Space Odyssey\"                                 \n",
            "[25] \"Toy Story\"                                             \n",
            "[26] \"Star Wars: Episode VI - Return of the Jedi\"            \n",
            "[27] \"Up\"                                                    \n",
            "[28] \"Lawrence of Arabia\"                                    \n",
            "[29] \"Toy Story 3\"                                           \n",
            "[30] \"Kantara\"                                               \n",
            "[31] \"North by Northwest\"                                    \n",
            "[32] \"Spider-Man: No Way Home\"                               \n",
            "[33] \"Jurassic Park\"                                         \n",
            "[34] \"Indiana Jones and the Last Crusade\"                    \n",
            "[35] \"Howl's Moving Castle\"                                  \n",
            "[36] \"Inside Out\"                                            \n",
            "[37] \"Finding Nemo\"                                          \n",
            "[38] \"Monty Python and the Holy Grail\"                       \n",
            "[39] \"The Great Escape\"                                      \n",
            "[40] \"Demon Slayer the Movie: Mugen Train\"                   \n",
            "[41] \"The Bridge on the River Kwai\"                          \n",
            "[42] \"Klaus\"                                                 \n",
            "[43] \"The Treasure of the Sierra Madre\"                      \n",
            "[44] \"The Wages of Fear\"                                     \n",
            "[45] \"Dersu Uzala\"                                           \n",
            "[46] \"Harry Potter and the Deathly Hallows: Part 2\"          \n",
            "[47] \"The Grand Budapest Hotel\"                              \n",
            "[48] \"Mad Max: Fury Road\"                                    \n",
            "[49] \"Stand by Me\"                                           \n",
            "[50] \"Pirates of the Caribbean: The Curse of the Black Pearl\"\n"
          ]
        }
      ]
    },
    {
      "cell_type": "code",
      "source": [
        "# Extract the Releasing Year of movies\n",
        "year = page %>% html_nodes(\".text-muted.unbold\") %>% html_text()\n",
        "print(year)\n"
      ],
      "metadata": {
        "colab": {
          "base_uri": "https://localhost:8080/"
        },
        "id": "UfYbnFFfVnfp",
        "outputId": "24553a98-8771-4924-a2c8-1a2554ef13f5"
      },
      "execution_count": null,
      "outputs": [
        {
          "output_type": "stream",
          "name": "stdout",
          "text": [
            " [1] \"(2003)\"     \"(2022)\"     \"(2001)\"     \"(2010)\"     \"(2002)\"    \n",
            " [6] \"(1966)\"     \"(1980)\"     \"(2014)\"     \"(1977)\"     \"(2001)\"    \n",
            "[11] \"(1985)\"     \"(2000)\"     \"(1994)\"     \"(2019)\"     \"(2019)\"    \n",
            "[16] \"(2018)\"     \"(2018)\"     \"(1981)\"     \"(1986)\"     \"(I) (2017)\"\n",
            "[21] \"(2008)\"     \"(1997)\"     \"(2009)\"     \"(1968)\"     \"(1995)\"    \n",
            "[26] \"(1983)\"     \"(2009)\"     \"(1962)\"     \"(2010)\"     \"(2022)\"    \n",
            "[31] \"(1959)\"     \"(2021)\"     \"(1993)\"     \"(1989)\"     \"(2004)\"    \n",
            "[36] \"(I) (2015)\" \"(2003)\"     \"(1975)\"     \"(1963)\"     \"(2020)\"    \n",
            "[41] \"(1957)\"     \"(2019)\"     \"(1948)\"     \"(1953)\"     \"(1975)\"    \n",
            "[46] \"(2011)\"     \"(2014)\"     \"(2015)\"     \"(1986)\"     \"(2003)\"    \n"
          ]
        }
      ]
    },
    {
      "cell_type": "code",
      "source": [
        "# Extract the rating of movies\n",
        "rating = page %>% html_nodes(\".ratings-imdb-rating strong\") %>% html_text()\n",
        "print(rating)\n"
      ],
      "metadata": {
        "colab": {
          "base_uri": "https://localhost:8080/"
        },
        "id": "3oX3RPwEVnpx",
        "outputId": "e1dc2d25-52fb-4fa2-f124-af70cf64c7a2"
      },
      "execution_count": null,
      "outputs": [
        {
          "output_type": "stream",
          "name": "stdout",
          "text": [
            " [1] \"9.0\" \"8.9\" \"8.8\" \"8.8\" \"8.8\" \"8.8\" \"8.7\" \"8.6\" \"8.6\" \"8.6\" \"8.5\" \"8.5\"\n",
            "[13] \"8.5\" \"8.5\" \"8.4\" \"8.4\" \"8.4\" \"8.4\" \"8.4\" \"8.4\" \"8.4\" \"8.4\" \"8.3\" \"8.3\"\n",
            "[25] \"8.3\" \"8.3\" \"8.3\" \"8.3\" \"8.3\" \"8.3\" \"8.3\" \"8.2\" \"8.2\" \"8.2\" \"8.2\" \"8.2\"\n",
            "[37] \"8.2\" \"8.2\" \"8.2\" \"8.2\" \"8.2\" \"8.2\" \"8.2\" \"8.2\" \"8.2\" \"8.1\" \"8.1\" \"8.1\"\n",
            "[49] \"8.1\" \"8.1\"\n"
          ]
        }
      ]
    },
    {
      "cell_type": "code",
      "source": [
        "# Extract synopsis of movies\n",
        "synopsis = page %>% html_nodes(\".ratings-bar+ .text-muted\") %>% html_text()\n",
        "print(synopsis)"
      ],
      "metadata": {
        "colab": {
          "base_uri": "https://localhost:8080/"
        },
        "id": "_yWhHhxQVnzb",
        "outputId": "ba4f4a91-39a5-4b41-f962-d35c8fff4dd3"
      },
      "execution_count": null,
      "outputs": [
        {
          "output_type": "stream",
          "name": "stdout",
          "text": [
            " [1] \"\\nGandalf and Aragorn lead the World of Men against Sauron's army to draw his gaze from Frodo and Sam as they approach Mount Doom with the One Ring.\"                                                                                             \n",
            " [2] \"\\nDharma is stuck in a rut with his negative and lonely lifestyle and spends each day in the comfort of his loneliness. A pup named Charlie enters his life and gives him a new perspective towards it.\"                                          \n",
            " [3] \"\\nA meek Hobbit from the Shire and eight companions set out on a journey to destroy the powerful One Ring and save Middle-earth from the Dark Lord Sauron.\"                                                                                       \n",
            " [4] \"\\nA thief who steals corporate secrets through the use of dream-sharing technology is given the inverse task of planting an idea into the mind of a C.E.O., but his tragic past may doom the project and his team to disaster.\"                   \n",
            " [5] \"\\nWhile Frodo and Sam edge closer to Mordor with the help of the shifty Gollum, the divided fellowship makes a stand against Sauron's new ally, Saruman, and his hordes of Isengard.\"                                                             \n",
            " [6] \"\\nA bounty hunting scam joins two men in an uneasy alliance against a third in a race to find a fortune in gold buried in a remote cemetery.\"                                                                                                     \n",
            " [7] \"\\nAfter the Rebels are overpowered by the Empire, Luke Skywalker begins Jedi training with Yoda, while his friends are pursued across the galaxy by Darth Vader and bounty hunter Boba Fett.\"                                                     \n",
            " [8] \"\\nA team of explorers travel through a wormhole in space in an attempt to ensure humanity's survival.\"                                                                                                                                            \n",
            " [9] \"\\nLuke Skywalker joins forces with a Jedi Knight, a cocky pilot, a Wookiee and two droids to save the galaxy from the Empire's world-destroying battle station, while also attempting to rescue Princess Leia from the mysterious Darth Vader.\"   \n",
            "[10] \"\\nDuring her family's move to the suburbs, a sullen 10-year-old girl wanders into a world ruled by gods, witches, and spirits, and where humans are changed into beasts.\"                                                                         \n",
            "[11] \"\\nMarty McFly, a 17-year-old high school student, is accidentally sent 30 years into the past in a time-traveling DeLorean invented by his close friend, the maverick scientist Doc Brown.\"                                                       \n",
            "[12] \"\\nA former Roman General sets out to exact vengeance against the corrupt emperor who murdered his family and sent him into slavery.\"                                                                                                              \n",
            "[13] \"\\nLion prince Simba and his father are targeted by his bitter uncle, who wants to ascend the throne himself.\"                                                                                                                                     \n",
            "[14] \"\\nDilli, an ex-convict, endeavours to meet his daughter for the first time after leaving prison. However, his attempts are interrupted due to a drug raid planned by Inspector Bejoy.\"                                                            \n",
            "[15] \"\\nAfter the devastating events of Avengers: Infinity War (2018), the universe is in ruins. With the help of remaining allies, the Avengers assemble once more in order to reverse Thanos' actions and restore balance to the universe.\"           \n",
            "[16] \"\\nTeen Miles Morales becomes the Spider-Man of his universe, and must join with five spider-powered individuals from other dimensions to stop a threat for all realities.\"                                                                        \n",
            "[17] \"\\nThe Avengers and their allies must be willing to sacrifice all in an attempt to defeat the powerful Thanos before his blitz of devastation and ruin puts an end to the universe.\"                                                               \n",
            "[18] \"\\nIn 1936, archaeologist and adventurer Indiana Jones is hired by the U.S. government to find the Ark of the Covenant before the Nazis can obtain its awesome powers.\"                                                                            \n",
            "[19] \"\\nDecades after surviving the Nostromo incident, Ellen Ripley is sent out to re-establish contact with a terraforming colony, but finds herself battling the Alien Queen and her offspring.\"                                                      \n",
            "[20] \"\\nAspiring musician Miguel, confronted with his family's ancestral ban on music, enters the Land of the Dead to find his great-great-grandfather, a legendary singer.\"                                                                            \n",
            "[21] \"\\nIn the distant future, a small waste-collecting robot inadvertently embarks on a space journey that will ultimately decide the fate of mankind.\"                                                                                                \n",
            "[22] \"\\nOn a journey to find the cure for a Tatarigami's curse, Ashitaka finds himself in the middle of a war between the forest gods and Tatara, a mining colony. In this quest he also meets San, the Mononoke Hime.\"                                 \n",
            "[23] \"\\nIn Nazi-occupied France during World War II, a plan to assassinate Nazi leaders by a group of Jewish U.S. soldiers coincides with a theatre owner's vengeful plans for the same.\"                                                               \n",
            "[24] \"\\nAfter uncovering a mysterious artifact buried beneath the Lunar surface, a spacecraft is sent to Jupiter to find its origins - a spacecraft manned by two men and the supercomputer H.A.L. 9000.\"                                               \n",
            "[25] \"\\nA cowboy doll is profoundly threatened and jealous when a new spaceman action figure supplants him as top toy in a boy's bedroom.\"                                                                                                              \n",
            "[26] \"\\nAfter rescuing Han Solo from Jabba the Hutt, the Rebels attempt to destroy the second Death Star, while Luke struggles to help Darth Vader back from the dark side.\"                                                                            \n",
            "[27] \"\\n78-year-old Carl Fredricksen travels to Paradise Falls in his house equipped with balloons, inadvertently taking a young stowaway.\"                                                                                                             \n",
            "[28] \"\\nThe story of T.E. Lawrence, the English officer who successfully united and led the diverse, often warring, Arab tribes during World War I in order to fight the Turks.\"                                                                        \n",
            "[29] \"\\nThe toys are mistakenly delivered to a day-care center instead of the attic right before Andy leaves for college, and it's up to Woody to convince the other toys that they weren't abandoned and to return home.\"                              \n",
            "[30] \"\\nIt involves culture of Kambala and Bhootha Kola. A human and nature conflict where Shiva is a rebel who defends his village and nature. A death leads to war between villagers and evil forces. Will he be able to regain peace in the village?\"\n",
            "[31] \"\\nA New York City advertising executive goes on the run after being mistaken for a government agent by a group of foreign spies, and falls for a woman whose loyalties he begins to doubt.\"                                                       \n",
            "[32] \"\\nWith Spider-Man's identity now revealed, Peter asks Doctor Strange for help. When a spell goes wrong, dangerous foes from other worlds start to appear, forcing Peter to discover what it truly means to be Spider-Man.\"                        \n",
            "[33] \"\\nA pragmatic paleontologist touring an almost complete theme park on an island in Central America is tasked with protecting a couple of kids after a power failure causes the park's cloned dinosaurs to run loose.\"                             \n",
            "[34] \"\\nIn 1938, after his father goes missing while pursuing the Holy Grail, Indiana Jones finds himself up against the Nazis again to stop them from obtaining its powers.\"                                                                           \n",
            "[35] \"\\nWhen an unconfident young woman is cursed with an old body by a spiteful witch, her only chance of breaking the spell lies with a self-indulgent yet insecure young wizard and his companions in his legged, walking castle.\"                   \n",
            "[36] \"\\nAfter young Riley is uprooted from her Midwest life and moved to San Francisco, her emotions - Joy, Fear, Anger, Disgust and Sadness - conflict on how best to navigate a new city, house, and school.\"                                         \n",
            "[37] \"\\nAfter his son is captured in the Great Barrier Reef and taken to Sydney, a timid clownfish sets out on a journey to bring him home.\"                                                                                                            \n",
            "[38] \"\\nKing Arthur and his Knights of the Round Table embark on a surreal, low-budget search for the Holy Grail, encountering many, very silly obstacles.\"                                                                                             \n",
            "[39] \"\\nAllied prisoners of war plan for several hundred of their number to escape from a German camp during World War II.\"                                                                                                                             \n",
            "[40] \"\\nAfter his family was brutally murdered and his sister turned into a demon, Tanjiro Kamado's journey as a demon slayer began. Tanjiro and his comrades embark on a new mission aboard the Mugen Train, on track to despair.\"                     \n",
            "[41] \"\\nBritish POWs are forced to build a railway bridge across the river Kwai for their Japanese captors in occupied Burma, not knowing that the allied forces are planning a daring commando raid through the jungle to destroy it.\"                 \n",
            "[42] \"\\nA simple act of kindness always sparks another, even in a frozen, faraway place. When Smeerensburg's new postman, Jesper, befriends toymaker Klaus, their gifts melt an age-old feud and deliver a sleigh full of holiday traditions.\"          \n",
            "[43] \"\\nTwo down-on-their-luck Americans searching for work in 1920s Mexico convince an old prospector to help them mine for gold in the Sierra Madre Mountains.\"                                                                                       \n",
            "[44] \"\\nIn a decrepit South American village, four men are hired to transport an urgent nitroglycerine shipment without the equipment that would make it safe.\"                                                                                         \n",
            "[45] \"\\nThe Russian army sends an explorer on an expedition to the snowy Siberian wilderness where he makes friends with a seasoned local hunter.\"                                                                                                      \n",
            "[46] \"\\nHarry, Ron, and Hermione search for Voldemort's remaining Horcruxes in their effort to destroy the Dark Lord as the final battle rages on at Hogwarts.\"                                                                                         \n",
            "[47] \"\\nA writer encounters the owner of an aging high-class hotel, who tells him of his early years serving as a lobby boy in the hotel's glorious years under an exceptional concierge.\"                                                              \n",
            "[48] \"\\nIn a post-apocalyptic wasteland, a woman rebels against a tyrannical ruler in search for her homeland with the aid of a group of female prisoners, a psychotic worshiper, and a drifter named Max.\"                                             \n",
            "[49] \"\\nAfter the death of one of his friends, a writer recounts a childhood journey with his friends to find the body of a missing boy.\"                                                                                                               \n",
            "[50] \"\\nBlacksmith Will Turner teams up with eccentric pirate \\\"Captain\\\" Jack Sparrow to save his love, the governor's daughter, from Jack's former pirate allies, who are now undead.\"                                                                \n"
          ]
        }
      ]
    },
    {
      "cell_type": "code",
      "source": [
        "# create a data frame and csv file of final output of project\n",
        "\n",
        "get_cast = function(movie_link) {\n",
        "  movie_page = read_html(movie_link)\n",
        "  movie_cast = movie_page %>% html_nodes(\".primary_photo+ td a\") %>%\n",
        "    html_text() %>% paste(collapse = \",\")\n",
        "  return(movie_cast)\n",
        "}\n",
        "movies = data.frame()\n",
        "\n",
        "for (page_result in seq(from = 1, to = 51, by = 50)) {\n",
        "  link = paste0(\"https://www.imdb.com/search/title/?title_type=feature&num_votes=25000,&genres=adventure&sort=user_rating,desc&start=\", \n",
        "                page_result, \"&ref_=adv_nxt\")\n",
        "  page = read_html(link)\n",
        "link = \"https://www.imdb.com/search/title/?title_type=feature&num_votes=25000,&genres=adventure&sort=user_rating,desc\"\n",
        "page = read_html(link)\n",
        "name = page %>% html_nodes(\".lister-item-header a\") %>% html_text()\n",
        "# separte link for movie\n",
        "movie_links = page %>% html_nodes(\".lister-item-header a\") %>%\n",
        "  html_attr(\"href\") %>% paste(\"https://www.imdb.com\", ., sep=\"\")\n",
        "year = page %>% html_nodes(\".text-muted.unbold\") %>% html_text()\n",
        "\n",
        "rating = page %>% html_nodes(\".ratings-imdb-rating strong\") %>% html_text()\n",
        "\n",
        "synopsis = page %>% html_nodes(\".ratings-bar+ .text-muted\") %>% html_text()\n",
        "\n",
        "cast = sapply(movie_links, FUN = get_cast, USE.NAMES = FALSE)\n",
        "#synopsis = page %>% html_nodes(\".text-muted) %>% html_text()\n",
        "#synopsis[1:50]\n",
        "\n",
        "#write.csv(movies,\"imdbmovies.csv\")\n",
        "movies = rbind(movies, data.frame(name, year, rating, synopsis, cast, stringsAsFactors = FALSE))\n",
        "print(paste(\"Page:\", page_result))  \n",
        "}"
      ],
      "metadata": {
        "colab": {
          "base_uri": "https://localhost:8080/"
        },
        "id": "QgdDrpAcW9zN",
        "outputId": "6367e7b3-b2f9-46eb-e9cf-e1d311a41ace"
      },
      "execution_count": null,
      "outputs": [
        {
          "output_type": "stream",
          "name": "stdout",
          "text": [
            "[1] \"Page: 1\"\n",
            "[1] \"Page: 51\"\n"
          ]
        }
      ]
    },
    {
      "cell_type": "code",
      "source": [
        "# Create a dataframe \n",
        "View(movies)"
      ],
      "metadata": {
        "colab": {
          "base_uri": "https://localhost:8080/",
          "height": 1000
        },
        "id": "0xZkJ6O3W91p",
        "outputId": "bd44cb55-1dd7-4941-a8a0-9d2605d0ea94"
      },
      "execution_count": null,
      "outputs": [
        {
          "output_type": "display_data",
          "data": {
            "text/plain": [
              "   name                                                   year       rating\n",
              "1  The Lord of the Rings: The Return of the King          (2003)     9.0   \n",
              "2  777 Charlie                                            (2022)     8.9   \n",
              "3  The Lord of the Rings: The Fellowship of the Ring      (2001)     8.8   \n",
              "4  Inception                                              (2010)     8.8   \n",
              "5  The Lord of the Rings: The Two Towers                  (2002)     8.8   \n",
              "6  The Good, the Bad and the Ugly                         (1966)     8.8   \n",
              "7  Star Wars: Episode V - The Empire Strikes Back         (1980)     8.7   \n",
              "8  Interstellar                                           (2014)     8.6   \n",
              "9  Star Wars                                              (1977)     8.6   \n",
              "10 Spirited Away                                          (2001)     8.6   \n",
              "11 Back to the Future                                     (1985)     8.5   \n",
              "12 Gladiator                                              (2000)     8.5   \n",
              "13 The Lion King                                          (1994)     8.5   \n",
              "14 Kaithi                                                 (2019)     8.5   \n",
              "15 Avengers: Endgame                                      (2019)     8.4   \n",
              "16 Spider-Man: Into the Spider-Verse                      (2018)     8.4   \n",
              "17 Avengers: Infinity War                                 (2018)     8.4   \n",
              "18 Raiders of the Lost Ark                                (1981)     8.4   \n",
              "19 Aliens                                                 (1986)     8.4   \n",
              "20 Coco                                                   (I) (2017) 8.4   \n",
              "21 WALL·E                                                 (2008)     8.4   \n",
              "22 Princess Mononoke                                      (1997)     8.4   \n",
              "23 Inglourious Basterds                                   (2009)     8.3   \n",
              "24 2001: A Space Odyssey                                  (1968)     8.3   \n",
              "25 Toy Story                                              (1995)     8.3   \n",
              "26 Star Wars: Episode VI - Return of the Jedi             (1983)     8.3   \n",
              "27 Up                                                     (2009)     8.3   \n",
              "28 Lawrence of Arabia                                     (1962)     8.3   \n",
              "29 Toy Story 3                                            (2010)     8.3   \n",
              "30 Kantara                                                (2022)     8.3   \n",
              "31 North by Northwest                                     (1959)     8.3   \n",
              "32 Spider-Man: No Way Home                                (2021)     8.2   \n",
              "33 Jurassic Park                                          (1993)     8.2   \n",
              "34 Indiana Jones and the Last Crusade                     (1989)     8.2   \n",
              "35 Howl's Moving Castle                                   (2004)     8.2   \n",
              "36 Inside Out                                             (I) (2015) 8.2   \n",
              "37 Finding Nemo                                           (2003)     8.2   \n",
              "38 Monty Python and the Holy Grail                        (1975)     8.2   \n",
              "39 The Great Escape                                       (1963)     8.2   \n",
              "40 Demon Slayer the Movie: Mugen Train                    (2020)     8.2   \n",
              "41 The Bridge on the River Kwai                           (1957)     8.2   \n",
              "42 Klaus                                                  (2019)     8.2   \n",
              "43 The Treasure of the Sierra Madre                       (1948)     8.2   \n",
              "44 The Wages of Fear                                      (1953)     8.2   \n",
              "45 Dersu Uzala                                            (1975)     8.2   \n",
              "46 Harry Potter and the Deathly Hallows: Part 2           (2011)     8.1   \n",
              "47 The Grand Budapest Hotel                               (2014)     8.1   \n",
              "48 Mad Max: Fury Road                                     (2015)     8.1   \n",
              "49 Stand by Me                                            (1986)     8.1   \n",
              "50 Pirates of the Caribbean: The Curse of the Black Pearl (2003)     8.1   \n",
              "   synopsis                                                                                                                                                                                                                                         \n",
              "1  \\nGandalf and Aragorn lead the World of Men against Sauron's army to draw his gaze from Frodo and Sam as they approach Mount Doom with the One Ring.                                                                                             \n",
              "2  \\nDharma is stuck in a rut with his negative and lonely lifestyle and spends each day in the comfort of his loneliness. A pup named Charlie enters his life and gives him a new perspective towards it.                                          \n",
              "3  \\nA meek Hobbit from the Shire and eight companions set out on a journey to destroy the powerful One Ring and save Middle-earth from the Dark Lord Sauron.                                                                                       \n",
              "4  \\nA thief who steals corporate secrets through the use of dream-sharing technology is given the inverse task of planting an idea into the mind of a C.E.O., but his tragic past may doom the project and his team to disaster.                   \n",
              "5  \\nWhile Frodo and Sam edge closer to Mordor with the help of the shifty Gollum, the divided fellowship makes a stand against Sauron's new ally, Saruman, and his hordes of Isengard.                                                             \n",
              "6  \\nA bounty hunting scam joins two men in an uneasy alliance against a third in a race to find a fortune in gold buried in a remote cemetery.                                                                                                     \n",
              "7  \\nAfter the Rebels are overpowered by the Empire, Luke Skywalker begins Jedi training with Yoda, while his friends are pursued across the galaxy by Darth Vader and bounty hunter Boba Fett.                                                     \n",
              "8  \\nA team of explorers travel through a wormhole in space in an attempt to ensure humanity's survival.                                                                                                                                            \n",
              "9  \\nLuke Skywalker joins forces with a Jedi Knight, a cocky pilot, a Wookiee and two droids to save the galaxy from the Empire's world-destroying battle station, while also attempting to rescue Princess Leia from the mysterious Darth Vader.   \n",
              "10 \\nDuring her family's move to the suburbs, a sullen 10-year-old girl wanders into a world ruled by gods, witches, and spirits, and where humans are changed into beasts.                                                                         \n",
              "11 \\nMarty McFly, a 17-year-old high school student, is accidentally sent 30 years into the past in a time-traveling DeLorean invented by his close friend, the maverick scientist Doc Brown.                                                       \n",
              "12 \\nA former Roman General sets out to exact vengeance against the corrupt emperor who murdered his family and sent him into slavery.                                                                                                              \n",
              "13 \\nLion prince Simba and his father are targeted by his bitter uncle, who wants to ascend the throne himself.                                                                                                                                     \n",
              "14 \\nDilli, an ex-convict, endeavours to meet his daughter for the first time after leaving prison. However, his attempts are interrupted due to a drug raid planned by Inspector Bejoy.                                                            \n",
              "15 \\nAfter the devastating events of Avengers: Infinity War (2018), the universe is in ruins. With the help of remaining allies, the Avengers assemble once more in order to reverse Thanos' actions and restore balance to the universe.           \n",
              "16 \\nTeen Miles Morales becomes the Spider-Man of his universe, and must join with five spider-powered individuals from other dimensions to stop a threat for all realities.                                                                        \n",
              "17 \\nThe Avengers and their allies must be willing to sacrifice all in an attempt to defeat the powerful Thanos before his blitz of devastation and ruin puts an end to the universe.                                                               \n",
              "18 \\nIn 1936, archaeologist and adventurer Indiana Jones is hired by the U.S. government to find the Ark of the Covenant before the Nazis can obtain its awesome powers.                                                                            \n",
              "19 \\nDecades after surviving the Nostromo incident, Ellen Ripley is sent out to re-establish contact with a terraforming colony, but finds herself battling the Alien Queen and her offspring.                                                      \n",
              "20 \\nAspiring musician Miguel, confronted with his family's ancestral ban on music, enters the Land of the Dead to find his great-great-grandfather, a legendary singer.                                                                            \n",
              "21 \\nIn the distant future, a small waste-collecting robot inadvertently embarks on a space journey that will ultimately decide the fate of mankind.                                                                                                \n",
              "22 \\nOn a journey to find the cure for a Tatarigami's curse, Ashitaka finds himself in the middle of a war between the forest gods and Tatara, a mining colony. In this quest he also meets San, the Mononoke Hime.                                 \n",
              "23 \\nIn Nazi-occupied France during World War II, a plan to assassinate Nazi leaders by a group of Jewish U.S. soldiers coincides with a theatre owner's vengeful plans for the same.                                                               \n",
              "24 \\nAfter uncovering a mysterious artifact buried beneath the Lunar surface, a spacecraft is sent to Jupiter to find its origins - a spacecraft manned by two men and the supercomputer H.A.L. 9000.                                               \n",
              "25 \\nA cowboy doll is profoundly threatened and jealous when a new spaceman action figure supplants him as top toy in a boy's bedroom.                                                                                                              \n",
              "26 \\nAfter rescuing Han Solo from Jabba the Hutt, the Rebels attempt to destroy the second Death Star, while Luke struggles to help Darth Vader back from the dark side.                                                                            \n",
              "27 \\n78-year-old Carl Fredricksen travels to Paradise Falls in his house equipped with balloons, inadvertently taking a young stowaway.                                                                                                             \n",
              "28 \\nThe story of T.E. Lawrence, the English officer who successfully united and led the diverse, often warring, Arab tribes during World War I in order to fight the Turks.                                                                        \n",
              "29 \\nThe toys are mistakenly delivered to a day-care center instead of the attic right before Andy leaves for college, and it's up to Woody to convince the other toys that they weren't abandoned and to return home.                              \n",
              "30 \\nIt involves culture of Kambala and Bhootha Kola. A human and nature conflict where Shiva is a rebel who defends his village and nature. A death leads to war between villagers and evil forces. Will he be able to regain peace in the village?\n",
              "31 \\nA New York City advertising executive goes on the run after being mistaken for a government agent by a group of foreign spies, and falls for a woman whose loyalties he begins to doubt.                                                       \n",
              "32 \\nWith Spider-Man's identity now revealed, Peter asks Doctor Strange for help. When a spell goes wrong, dangerous foes from other worlds start to appear, forcing Peter to discover what it truly means to be Spider-Man.                        \n",
              "33 \\nA pragmatic paleontologist touring an almost complete theme park on an island in Central America is tasked with protecting a couple of kids after a power failure causes the park's cloned dinosaurs to run loose.                             \n",
              "34 \\nIn 1938, after his father goes missing while pursuing the Holy Grail, Indiana Jones finds himself up against the Nazis again to stop them from obtaining its powers.                                                                           \n",
              "35 \\nWhen an unconfident young woman is cursed with an old body by a spiteful witch, her only chance of breaking the spell lies with a self-indulgent yet insecure young wizard and his companions in his legged, walking castle.                   \n",
              "36 \\nAfter young Riley is uprooted from her Midwest life and moved to San Francisco, her emotions - Joy, Fear, Anger, Disgust and Sadness - conflict on how best to navigate a new city, house, and school.                                         \n",
              "37 \\nAfter his son is captured in the Great Barrier Reef and taken to Sydney, a timid clownfish sets out on a journey to bring him home.                                                                                                            \n",
              "38 \\nKing Arthur and his Knights of the Round Table embark on a surreal, low-budget search for the Holy Grail, encountering many, very silly obstacles.                                                                                             \n",
              "39 \\nAllied prisoners of war plan for several hundred of their number to escape from a German camp during World War II.                                                                                                                             \n",
              "40 \\nAfter his family was brutally murdered and his sister turned into a demon, Tanjiro Kamado's journey as a demon slayer began. Tanjiro and his comrades embark on a new mission aboard the Mugen Train, on track to despair.                     \n",
              "41 \\nBritish POWs are forced to build a railway bridge across the river Kwai for their Japanese captors in occupied Burma, not knowing that the allied forces are planning a daring commando raid through the jungle to destroy it.                 \n",
              "42 \\nA simple act of kindness always sparks another, even in a frozen, faraway place. When Smeerensburg's new postman, Jesper, befriends toymaker Klaus, their gifts melt an age-old feud and deliver a sleigh full of holiday traditions.          \n",
              "43 \\nTwo down-on-their-luck Americans searching for work in 1920s Mexico convince an old prospector to help them mine for gold in the Sierra Madre Mountains.                                                                                       \n",
              "44 \\nIn a decrepit South American village, four men are hired to transport an urgent nitroglycerine shipment without the equipment that would make it safe.                                                                                         \n",
              "45 \\nThe Russian army sends an explorer on an expedition to the snowy Siberian wilderness where he makes friends with a seasoned local hunter.                                                                                                      \n",
              "46 \\nHarry, Ron, and Hermione search for Voldemort's remaining Horcruxes in their effort to destroy the Dark Lord as the final battle rages on at Hogwarts.                                                                                         \n",
              "47 \\nA writer encounters the owner of an aging high-class hotel, who tells him of his early years serving as a lobby boy in the hotel's glorious years under an exceptional concierge.                                                              \n",
              "48 \\nIn a post-apocalyptic wasteland, a woman rebels against a tyrannical ruler in search for her homeland with the aid of a group of female prisoners, a psychotic worshiper, and a drifter named Max.                                             \n",
              "49 \\nAfter the death of one of his friends, a writer recounts a childhood journey with his friends to find the body of a missing boy.                                                                                                               \n",
              "50 \\nBlacksmith Will Turner teams up with eccentric pirate \"Captain\" Jack Sparrow to save his love, the governor's daughter, from Jack's former pirate allies, who are now undead.                                                                  \n",
              "   cast\n",
              "1      \n",
              "2      \n",
              "3      \n",
              "4      \n",
              "5      \n",
              "6      \n",
              "7      \n",
              "8      \n",
              "9      \n",
              "10     \n",
              "11     \n",
              "12     \n",
              "13     \n",
              "14     \n",
              "15     \n",
              "16     \n",
              "17     \n",
              "18     \n",
              "19     \n",
              "20     \n",
              "21     \n",
              "22     \n",
              "23     \n",
              "24     \n",
              "25     \n",
              "26     \n",
              "27     \n",
              "28     \n",
              "29     \n",
              "30     \n",
              "31     \n",
              "32     \n",
              "33     \n",
              "34     \n",
              "35     \n",
              "36     \n",
              "37     \n",
              "38     \n",
              "39     \n",
              "40     \n",
              "41     \n",
              "42     \n",
              "43     \n",
              "44     \n",
              "45     \n",
              "46     \n",
              "47     \n",
              "48     \n",
              "49     \n",
              "50     "
            ],
            "text/html": [
              "<table class=\"dataframe\">\n",
              "<caption>A data.frame: 50 × 5</caption>\n",
              "<thead>\n",
              "\t<tr><th scope=col>name</th><th scope=col>year</th><th scope=col>rating</th><th scope=col>synopsis</th><th scope=col>cast</th></tr>\n",
              "\t<tr><th scope=col>&lt;chr&gt;</th><th scope=col>&lt;chr&gt;</th><th scope=col>&lt;chr&gt;</th><th scope=col>&lt;chr&gt;</th><th scope=col>&lt;chr&gt;</th></tr>\n",
              "</thead>\n",
              "<tbody>\n",
              "\t<tr><td>The Lord of the Rings: The Return of the King         </td><td>(2003)    </td><td>9.0</td><td>\n",
              "Gandalf and Aragorn lead the World of Men against Sauron's army to draw his gaze from Frodo and Sam as they approach Mount Doom with the One Ring.                                                                                             </td><td></td></tr>\n",
              "\t<tr><td>777 Charlie                                           </td><td>(2022)    </td><td>8.9</td><td>\n",
              "Dharma is stuck in a rut with his negative and lonely lifestyle and spends each day in the comfort of his loneliness. A pup named Charlie enters his life and gives him a new perspective towards it.                                          </td><td></td></tr>\n",
              "\t<tr><td>The Lord of the Rings: The Fellowship of the Ring     </td><td>(2001)    </td><td>8.8</td><td>\n",
              "A meek Hobbit from the Shire and eight companions set out on a journey to destroy the powerful One Ring and save Middle-earth from the Dark Lord Sauron.                                                                                       </td><td></td></tr>\n",
              "\t<tr><td>Inception                                             </td><td>(2010)    </td><td>8.8</td><td>\n",
              "A thief who steals corporate secrets through the use of dream-sharing technology is given the inverse task of planting an idea into the mind of a C.E.O., but his tragic past may doom the project and his team to disaster.                   </td><td></td></tr>\n",
              "\t<tr><td>The Lord of the Rings: The Two Towers                 </td><td>(2002)    </td><td>8.8</td><td>\n",
              "While Frodo and Sam edge closer to Mordor with the help of the shifty Gollum, the divided fellowship makes a stand against Sauron's new ally, Saruman, and his hordes of Isengard.                                                             </td><td></td></tr>\n",
              "\t<tr><td>The Good, the Bad and the Ugly                        </td><td>(1966)    </td><td>8.8</td><td>\n",
              "A bounty hunting scam joins two men in an uneasy alliance against a third in a race to find a fortune in gold buried in a remote cemetery.                                                                                                     </td><td></td></tr>\n",
              "\t<tr><td>Star Wars: Episode V - The Empire Strikes Back        </td><td>(1980)    </td><td>8.7</td><td>\n",
              "After the Rebels are overpowered by the Empire, Luke Skywalker begins Jedi training with Yoda, while his friends are pursued across the galaxy by Darth Vader and bounty hunter Boba Fett.                                                     </td><td></td></tr>\n",
              "\t<tr><td>Interstellar                                          </td><td>(2014)    </td><td>8.6</td><td>\n",
              "A team of explorers travel through a wormhole in space in an attempt to ensure humanity's survival.                                                                                                                                            </td><td></td></tr>\n",
              "\t<tr><td>Star Wars                                             </td><td>(1977)    </td><td>8.6</td><td>\n",
              "Luke Skywalker joins forces with a Jedi Knight, a cocky pilot, a Wookiee and two droids to save the galaxy from the Empire's world-destroying battle station, while also attempting to rescue Princess Leia from the mysterious Darth Vader.   </td><td></td></tr>\n",
              "\t<tr><td>Spirited Away                                         </td><td>(2001)    </td><td>8.6</td><td>\n",
              "During her family's move to the suburbs, a sullen 10-year-old girl wanders into a world ruled by gods, witches, and spirits, and where humans are changed into beasts.                                                                         </td><td></td></tr>\n",
              "\t<tr><td>Back to the Future                                    </td><td>(1985)    </td><td>8.5</td><td>\n",
              "Marty McFly, a 17-year-old high school student, is accidentally sent 30 years into the past in a time-traveling DeLorean invented by his close friend, the maverick scientist Doc Brown.                                                       </td><td></td></tr>\n",
              "\t<tr><td>Gladiator                                             </td><td>(2000)    </td><td>8.5</td><td>\n",
              "A former Roman General sets out to exact vengeance against the corrupt emperor who murdered his family and sent him into slavery.                                                                                                              </td><td></td></tr>\n",
              "\t<tr><td>The Lion King                                         </td><td>(1994)    </td><td>8.5</td><td>\n",
              "Lion prince Simba and his father are targeted by his bitter uncle, who wants to ascend the throne himself.                                                                                                                                     </td><td></td></tr>\n",
              "\t<tr><td>Kaithi                                                </td><td>(2019)    </td><td>8.5</td><td>\n",
              "Dilli, an ex-convict, endeavours to meet his daughter for the first time after leaving prison. However, his attempts are interrupted due to a drug raid planned by Inspector Bejoy.                                                            </td><td></td></tr>\n",
              "\t<tr><td>Avengers: Endgame                                     </td><td>(2019)    </td><td>8.4</td><td>\n",
              "After the devastating events of Avengers: Infinity War (2018), the universe is in ruins. With the help of remaining allies, the Avengers assemble once more in order to reverse Thanos' actions and restore balance to the universe.           </td><td></td></tr>\n",
              "\t<tr><td>Spider-Man: Into the Spider-Verse                     </td><td>(2018)    </td><td>8.4</td><td>\n",
              "Teen Miles Morales becomes the Spider-Man of his universe, and must join with five spider-powered individuals from other dimensions to stop a threat for all realities.                                                                        </td><td></td></tr>\n",
              "\t<tr><td>Avengers: Infinity War                                </td><td>(2018)    </td><td>8.4</td><td>\n",
              "The Avengers and their allies must be willing to sacrifice all in an attempt to defeat the powerful Thanos before his blitz of devastation and ruin puts an end to the universe.                                                               </td><td></td></tr>\n",
              "\t<tr><td>Raiders of the Lost Ark                               </td><td>(1981)    </td><td>8.4</td><td>\n",
              "In 1936, archaeologist and adventurer Indiana Jones is hired by the U.S. government to find the Ark of the Covenant before the Nazis can obtain its awesome powers.                                                                            </td><td></td></tr>\n",
              "\t<tr><td>Aliens                                                </td><td>(1986)    </td><td>8.4</td><td>\n",
              "Decades after surviving the Nostromo incident, Ellen Ripley is sent out to re-establish contact with a terraforming colony, but finds herself battling the Alien Queen and her offspring.                                                      </td><td></td></tr>\n",
              "\t<tr><td>Coco                                                  </td><td>(I) (2017)</td><td>8.4</td><td>\n",
              "Aspiring musician Miguel, confronted with his family's ancestral ban on music, enters the Land of the Dead to find his great-great-grandfather, a legendary singer.                                                                            </td><td></td></tr>\n",
              "\t<tr><td>WALL·E                                                </td><td>(2008)    </td><td>8.4</td><td>\n",
              "In the distant future, a small waste-collecting robot inadvertently embarks on a space journey that will ultimately decide the fate of mankind.                                                                                                </td><td></td></tr>\n",
              "\t<tr><td>Princess Mononoke                                     </td><td>(1997)    </td><td>8.4</td><td>\n",
              "On a journey to find the cure for a Tatarigami's curse, Ashitaka finds himself in the middle of a war between the forest gods and Tatara, a mining colony. In this quest he also meets San, the Mononoke Hime.                                 </td><td></td></tr>\n",
              "\t<tr><td>Inglourious Basterds                                  </td><td>(2009)    </td><td>8.3</td><td>\n",
              "In Nazi-occupied France during World War II, a plan to assassinate Nazi leaders by a group of Jewish U.S. soldiers coincides with a theatre owner's vengeful plans for the same.                                                               </td><td></td></tr>\n",
              "\t<tr><td>2001: A Space Odyssey                                 </td><td>(1968)    </td><td>8.3</td><td>\n",
              "After uncovering a mysterious artifact buried beneath the Lunar surface, a spacecraft is sent to Jupiter to find its origins - a spacecraft manned by two men and the supercomputer H.A.L. 9000.                                               </td><td></td></tr>\n",
              "\t<tr><td>Toy Story                                             </td><td>(1995)    </td><td>8.3</td><td>\n",
              "A cowboy doll is profoundly threatened and jealous when a new spaceman action figure supplants him as top toy in a boy's bedroom.                                                                                                              </td><td></td></tr>\n",
              "\t<tr><td>Star Wars: Episode VI - Return of the Jedi            </td><td>(1983)    </td><td>8.3</td><td>\n",
              "After rescuing Han Solo from Jabba the Hutt, the Rebels attempt to destroy the second Death Star, while Luke struggles to help Darth Vader back from the dark side.                                                                            </td><td></td></tr>\n",
              "\t<tr><td>Up                                                    </td><td>(2009)    </td><td>8.3</td><td>\n",
              "78-year-old Carl Fredricksen travels to Paradise Falls in his house equipped with balloons, inadvertently taking a young stowaway.                                                                                                             </td><td></td></tr>\n",
              "\t<tr><td>Lawrence of Arabia                                    </td><td>(1962)    </td><td>8.3</td><td>\n",
              "The story of T.E. Lawrence, the English officer who successfully united and led the diverse, often warring, Arab tribes during World War I in order to fight the Turks.                                                                        </td><td></td></tr>\n",
              "\t<tr><td>Toy Story 3                                           </td><td>(2010)    </td><td>8.3</td><td>\n",
              "The toys are mistakenly delivered to a day-care center instead of the attic right before Andy leaves for college, and it's up to Woody to convince the other toys that they weren't abandoned and to return home.                              </td><td></td></tr>\n",
              "\t<tr><td>Kantara                                               </td><td>(2022)    </td><td>8.3</td><td>\n",
              "It involves culture of Kambala and Bhootha Kola. A human and nature conflict where Shiva is a rebel who defends his village and nature. A death leads to war between villagers and evil forces. Will he be able to regain peace in the village?</td><td></td></tr>\n",
              "\t<tr><td>North by Northwest                                    </td><td>(1959)    </td><td>8.3</td><td>\n",
              "A New York City advertising executive goes on the run after being mistaken for a government agent by a group of foreign spies, and falls for a woman whose loyalties he begins to doubt.                                                       </td><td></td></tr>\n",
              "\t<tr><td>Spider-Man: No Way Home                               </td><td>(2021)    </td><td>8.2</td><td>\n",
              "With Spider-Man's identity now revealed, Peter asks Doctor Strange for help. When a spell goes wrong, dangerous foes from other worlds start to appear, forcing Peter to discover what it truly means to be Spider-Man.                        </td><td></td></tr>\n",
              "\t<tr><td>Jurassic Park                                         </td><td>(1993)    </td><td>8.2</td><td>\n",
              "A pragmatic paleontologist touring an almost complete theme park on an island in Central America is tasked with protecting a couple of kids after a power failure causes the park's cloned dinosaurs to run loose.                             </td><td></td></tr>\n",
              "\t<tr><td>Indiana Jones and the Last Crusade                    </td><td>(1989)    </td><td>8.2</td><td>\n",
              "In 1938, after his father goes missing while pursuing the Holy Grail, Indiana Jones finds himself up against the Nazis again to stop them from obtaining its powers.                                                                           </td><td></td></tr>\n",
              "\t<tr><td>Howl's Moving Castle                                  </td><td>(2004)    </td><td>8.2</td><td>\n",
              "When an unconfident young woman is cursed with an old body by a spiteful witch, her only chance of breaking the spell lies with a self-indulgent yet insecure young wizard and his companions in his legged, walking castle.                   </td><td></td></tr>\n",
              "\t<tr><td>Inside Out                                            </td><td>(I) (2015)</td><td>8.2</td><td>\n",
              "After young Riley is uprooted from her Midwest life and moved to San Francisco, her emotions - Joy, Fear, Anger, Disgust and Sadness - conflict on how best to navigate a new city, house, and school.                                         </td><td></td></tr>\n",
              "\t<tr><td>Finding Nemo                                          </td><td>(2003)    </td><td>8.2</td><td>\n",
              "After his son is captured in the Great Barrier Reef and taken to Sydney, a timid clownfish sets out on a journey to bring him home.                                                                                                            </td><td></td></tr>\n",
              "\t<tr><td>Monty Python and the Holy Grail                       </td><td>(1975)    </td><td>8.2</td><td>\n",
              "King Arthur and his Knights of the Round Table embark on a surreal, low-budget search for the Holy Grail, encountering many, very silly obstacles.                                                                                             </td><td></td></tr>\n",
              "\t<tr><td>The Great Escape                                      </td><td>(1963)    </td><td>8.2</td><td>\n",
              "Allied prisoners of war plan for several hundred of their number to escape from a German camp during World War II.                                                                                                                             </td><td></td></tr>\n",
              "\t<tr><td>Demon Slayer the Movie: Mugen Train                   </td><td>(2020)    </td><td>8.2</td><td>\n",
              "After his family was brutally murdered and his sister turned into a demon, Tanjiro Kamado's journey as a demon slayer began. Tanjiro and his comrades embark on a new mission aboard the Mugen Train, on track to despair.                     </td><td></td></tr>\n",
              "\t<tr><td>The Bridge on the River Kwai                          </td><td>(1957)    </td><td>8.2</td><td>\n",
              "British POWs are forced to build a railway bridge across the river Kwai for their Japanese captors in occupied Burma, not knowing that the allied forces are planning a daring commando raid through the jungle to destroy it.                 </td><td></td></tr>\n",
              "\t<tr><td>Klaus                                                 </td><td>(2019)    </td><td>8.2</td><td>\n",
              "A simple act of kindness always sparks another, even in a frozen, faraway place. When Smeerensburg's new postman, Jesper, befriends toymaker Klaus, their gifts melt an age-old feud and deliver a sleigh full of holiday traditions.          </td><td></td></tr>\n",
              "\t<tr><td>The Treasure of the Sierra Madre                      </td><td>(1948)    </td><td>8.2</td><td>\n",
              "Two down-on-their-luck Americans searching for work in 1920s Mexico convince an old prospector to help them mine for gold in the Sierra Madre Mountains.                                                                                       </td><td></td></tr>\n",
              "\t<tr><td>The Wages of Fear                                     </td><td>(1953)    </td><td>8.2</td><td>\n",
              "In a decrepit South American village, four men are hired to transport an urgent nitroglycerine shipment without the equipment that would make it safe.                                                                                         </td><td></td></tr>\n",
              "\t<tr><td>Dersu Uzala                                           </td><td>(1975)    </td><td>8.2</td><td>\n",
              "The Russian army sends an explorer on an expedition to the snowy Siberian wilderness where he makes friends with a seasoned local hunter.                                                                                                      </td><td></td></tr>\n",
              "\t<tr><td>Harry Potter and the Deathly Hallows: Part 2          </td><td>(2011)    </td><td>8.1</td><td>\n",
              "Harry, Ron, and Hermione search for Voldemort's remaining Horcruxes in their effort to destroy the Dark Lord as the final battle rages on at Hogwarts.                                                                                         </td><td></td></tr>\n",
              "\t<tr><td>The Grand Budapest Hotel                              </td><td>(2014)    </td><td>8.1</td><td>\n",
              "A writer encounters the owner of an aging high-class hotel, who tells him of his early years serving as a lobby boy in the hotel's glorious years under an exceptional concierge.                                                              </td><td></td></tr>\n",
              "\t<tr><td>Mad Max: Fury Road                                    </td><td>(2015)    </td><td>8.1</td><td>\n",
              "In a post-apocalyptic wasteland, a woman rebels against a tyrannical ruler in search for her homeland with the aid of a group of female prisoners, a psychotic worshiper, and a drifter named Max.                                             </td><td></td></tr>\n",
              "\t<tr><td>Stand by Me                                           </td><td>(1986)    </td><td>8.1</td><td>\n",
              "After the death of one of his friends, a writer recounts a childhood journey with his friends to find the body of a missing boy.                                                                                                               </td><td></td></tr>\n",
              "\t<tr><td>Pirates of the Caribbean: The Curse of the Black Pearl</td><td>(2003)    </td><td>8.1</td><td>\n",
              "Blacksmith Will Turner teams up with eccentric pirate \"Captain\" Jack Sparrow to save his love, the governor's daughter, from Jack's former pirate allies, who are now undead.                                                                  </td><td></td></tr>\n",
              "</tbody>\n",
              "</table>\n"
            ],
            "text/markdown": "\nA data.frame: 50 × 5\n\n| name &lt;chr&gt; | year &lt;chr&gt; | rating &lt;chr&gt; | synopsis &lt;chr&gt; | cast &lt;chr&gt; |\n|---|---|---|---|---|\n| The Lord of the Rings: The Return of the King          | (2003)     | 9.0 | \nGandalf and Aragorn lead the World of Men against Sauron's army to draw his gaze from Frodo and Sam as they approach Mount Doom with the One Ring.                                                                                              | <!----> |\n| 777 Charlie                                            | (2022)     | 8.9 | \nDharma is stuck in a rut with his negative and lonely lifestyle and spends each day in the comfort of his loneliness. A pup named Charlie enters his life and gives him a new perspective towards it.                                           | <!----> |\n| The Lord of the Rings: The Fellowship of the Ring      | (2001)     | 8.8 | \nA meek Hobbit from the Shire and eight companions set out on a journey to destroy the powerful One Ring and save Middle-earth from the Dark Lord Sauron.                                                                                        | <!----> |\n| Inception                                              | (2010)     | 8.8 | \nA thief who steals corporate secrets through the use of dream-sharing technology is given the inverse task of planting an idea into the mind of a C.E.O., but his tragic past may doom the project and his team to disaster.                    | <!----> |\n| The Lord of the Rings: The Two Towers                  | (2002)     | 8.8 | \nWhile Frodo and Sam edge closer to Mordor with the help of the shifty Gollum, the divided fellowship makes a stand against Sauron's new ally, Saruman, and his hordes of Isengard.                                                              | <!----> |\n| The Good, the Bad and the Ugly                         | (1966)     | 8.8 | \nA bounty hunting scam joins two men in an uneasy alliance against a third in a race to find a fortune in gold buried in a remote cemetery.                                                                                                      | <!----> |\n| Star Wars: Episode V - The Empire Strikes Back         | (1980)     | 8.7 | \nAfter the Rebels are overpowered by the Empire, Luke Skywalker begins Jedi training with Yoda, while his friends are pursued across the galaxy by Darth Vader and bounty hunter Boba Fett.                                                      | <!----> |\n| Interstellar                                           | (2014)     | 8.6 | \nA team of explorers travel through a wormhole in space in an attempt to ensure humanity's survival.                                                                                                                                             | <!----> |\n| Star Wars                                              | (1977)     | 8.6 | \nLuke Skywalker joins forces with a Jedi Knight, a cocky pilot, a Wookiee and two droids to save the galaxy from the Empire's world-destroying battle station, while also attempting to rescue Princess Leia from the mysterious Darth Vader.    | <!----> |\n| Spirited Away                                          | (2001)     | 8.6 | \nDuring her family's move to the suburbs, a sullen 10-year-old girl wanders into a world ruled by gods, witches, and spirits, and where humans are changed into beasts.                                                                          | <!----> |\n| Back to the Future                                     | (1985)     | 8.5 | \nMarty McFly, a 17-year-old high school student, is accidentally sent 30 years into the past in a time-traveling DeLorean invented by his close friend, the maverick scientist Doc Brown.                                                        | <!----> |\n| Gladiator                                              | (2000)     | 8.5 | \nA former Roman General sets out to exact vengeance against the corrupt emperor who murdered his family and sent him into slavery.                                                                                                               | <!----> |\n| The Lion King                                          | (1994)     | 8.5 | \nLion prince Simba and his father are targeted by his bitter uncle, who wants to ascend the throne himself.                                                                                                                                      | <!----> |\n| Kaithi                                                 | (2019)     | 8.5 | \nDilli, an ex-convict, endeavours to meet his daughter for the first time after leaving prison. However, his attempts are interrupted due to a drug raid planned by Inspector Bejoy.                                                             | <!----> |\n| Avengers: Endgame                                      | (2019)     | 8.4 | \nAfter the devastating events of Avengers: Infinity War (2018), the universe is in ruins. With the help of remaining allies, the Avengers assemble once more in order to reverse Thanos' actions and restore balance to the universe.            | <!----> |\n| Spider-Man: Into the Spider-Verse                      | (2018)     | 8.4 | \nTeen Miles Morales becomes the Spider-Man of his universe, and must join with five spider-powered individuals from other dimensions to stop a threat for all realities.                                                                         | <!----> |\n| Avengers: Infinity War                                 | (2018)     | 8.4 | \nThe Avengers and their allies must be willing to sacrifice all in an attempt to defeat the powerful Thanos before his blitz of devastation and ruin puts an end to the universe.                                                                | <!----> |\n| Raiders of the Lost Ark                                | (1981)     | 8.4 | \nIn 1936, archaeologist and adventurer Indiana Jones is hired by the U.S. government to find the Ark of the Covenant before the Nazis can obtain its awesome powers.                                                                             | <!----> |\n| Aliens                                                 | (1986)     | 8.4 | \nDecades after surviving the Nostromo incident, Ellen Ripley is sent out to re-establish contact with a terraforming colony, but finds herself battling the Alien Queen and her offspring.                                                       | <!----> |\n| Coco                                                   | (I) (2017) | 8.4 | \nAspiring musician Miguel, confronted with his family's ancestral ban on music, enters the Land of the Dead to find his great-great-grandfather, a legendary singer.                                                                             | <!----> |\n| WALL·E                                                 | (2008)     | 8.4 | \nIn the distant future, a small waste-collecting robot inadvertently embarks on a space journey that will ultimately decide the fate of mankind.                                                                                                 | <!----> |\n| Princess Mononoke                                      | (1997)     | 8.4 | \nOn a journey to find the cure for a Tatarigami's curse, Ashitaka finds himself in the middle of a war between the forest gods and Tatara, a mining colony. In this quest he also meets San, the Mononoke Hime.                                  | <!----> |\n| Inglourious Basterds                                   | (2009)     | 8.3 | \nIn Nazi-occupied France during World War II, a plan to assassinate Nazi leaders by a group of Jewish U.S. soldiers coincides with a theatre owner's vengeful plans for the same.                                                                | <!----> |\n| 2001: A Space Odyssey                                  | (1968)     | 8.3 | \nAfter uncovering a mysterious artifact buried beneath the Lunar surface, a spacecraft is sent to Jupiter to find its origins - a spacecraft manned by two men and the supercomputer H.A.L. 9000.                                                | <!----> |\n| Toy Story                                              | (1995)     | 8.3 | \nA cowboy doll is profoundly threatened and jealous when a new spaceman action figure supplants him as top toy in a boy's bedroom.                                                                                                               | <!----> |\n| Star Wars: Episode VI - Return of the Jedi             | (1983)     | 8.3 | \nAfter rescuing Han Solo from Jabba the Hutt, the Rebels attempt to destroy the second Death Star, while Luke struggles to help Darth Vader back from the dark side.                                                                             | <!----> |\n| Up                                                     | (2009)     | 8.3 | \n78-year-old Carl Fredricksen travels to Paradise Falls in his house equipped with balloons, inadvertently taking a young stowaway.                                                                                                              | <!----> |\n| Lawrence of Arabia                                     | (1962)     | 8.3 | \nThe story of T.E. Lawrence, the English officer who successfully united and led the diverse, often warring, Arab tribes during World War I in order to fight the Turks.                                                                         | <!----> |\n| Toy Story 3                                            | (2010)     | 8.3 | \nThe toys are mistakenly delivered to a day-care center instead of the attic right before Andy leaves for college, and it's up to Woody to convince the other toys that they weren't abandoned and to return home.                               | <!----> |\n| Kantara                                                | (2022)     | 8.3 | \nIt involves culture of Kambala and Bhootha Kola. A human and nature conflict where Shiva is a rebel who defends his village and nature. A death leads to war between villagers and evil forces. Will he be able to regain peace in the village? | <!----> |\n| North by Northwest                                     | (1959)     | 8.3 | \nA New York City advertising executive goes on the run after being mistaken for a government agent by a group of foreign spies, and falls for a woman whose loyalties he begins to doubt.                                                        | <!----> |\n| Spider-Man: No Way Home                                | (2021)     | 8.2 | \nWith Spider-Man's identity now revealed, Peter asks Doctor Strange for help. When a spell goes wrong, dangerous foes from other worlds start to appear, forcing Peter to discover what it truly means to be Spider-Man.                         | <!----> |\n| Jurassic Park                                          | (1993)     | 8.2 | \nA pragmatic paleontologist touring an almost complete theme park on an island in Central America is tasked with protecting a couple of kids after a power failure causes the park's cloned dinosaurs to run loose.                              | <!----> |\n| Indiana Jones and the Last Crusade                     | (1989)     | 8.2 | \nIn 1938, after his father goes missing while pursuing the Holy Grail, Indiana Jones finds himself up against the Nazis again to stop them from obtaining its powers.                                                                            | <!----> |\n| Howl's Moving Castle                                   | (2004)     | 8.2 | \nWhen an unconfident young woman is cursed with an old body by a spiteful witch, her only chance of breaking the spell lies with a self-indulgent yet insecure young wizard and his companions in his legged, walking castle.                    | <!----> |\n| Inside Out                                             | (I) (2015) | 8.2 | \nAfter young Riley is uprooted from her Midwest life and moved to San Francisco, her emotions - Joy, Fear, Anger, Disgust and Sadness - conflict on how best to navigate a new city, house, and school.                                          | <!----> |\n| Finding Nemo                                           | (2003)     | 8.2 | \nAfter his son is captured in the Great Barrier Reef and taken to Sydney, a timid clownfish sets out on a journey to bring him home.                                                                                                             | <!----> |\n| Monty Python and the Holy Grail                        | (1975)     | 8.2 | \nKing Arthur and his Knights of the Round Table embark on a surreal, low-budget search for the Holy Grail, encountering many, very silly obstacles.                                                                                              | <!----> |\n| The Great Escape                                       | (1963)     | 8.2 | \nAllied prisoners of war plan for several hundred of their number to escape from a German camp during World War II.                                                                                                                              | <!----> |\n| Demon Slayer the Movie: Mugen Train                    | (2020)     | 8.2 | \nAfter his family was brutally murdered and his sister turned into a demon, Tanjiro Kamado's journey as a demon slayer began. Tanjiro and his comrades embark on a new mission aboard the Mugen Train, on track to despair.                      | <!----> |\n| The Bridge on the River Kwai                           | (1957)     | 8.2 | \nBritish POWs are forced to build a railway bridge across the river Kwai for their Japanese captors in occupied Burma, not knowing that the allied forces are planning a daring commando raid through the jungle to destroy it.                  | <!----> |\n| Klaus                                                  | (2019)     | 8.2 | \nA simple act of kindness always sparks another, even in a frozen, faraway place. When Smeerensburg's new postman, Jesper, befriends toymaker Klaus, their gifts melt an age-old feud and deliver a sleigh full of holiday traditions.           | <!----> |\n| The Treasure of the Sierra Madre                       | (1948)     | 8.2 | \nTwo down-on-their-luck Americans searching for work in 1920s Mexico convince an old prospector to help them mine for gold in the Sierra Madre Mountains.                                                                                        | <!----> |\n| The Wages of Fear                                      | (1953)     | 8.2 | \nIn a decrepit South American village, four men are hired to transport an urgent nitroglycerine shipment without the equipment that would make it safe.                                                                                          | <!----> |\n| Dersu Uzala                                            | (1975)     | 8.2 | \nThe Russian army sends an explorer on an expedition to the snowy Siberian wilderness where he makes friends with a seasoned local hunter.                                                                                                       | <!----> |\n| Harry Potter and the Deathly Hallows: Part 2           | (2011)     | 8.1 | \nHarry, Ron, and Hermione search for Voldemort's remaining Horcruxes in their effort to destroy the Dark Lord as the final battle rages on at Hogwarts.                                                                                          | <!----> |\n| The Grand Budapest Hotel                               | (2014)     | 8.1 | \nA writer encounters the owner of an aging high-class hotel, who tells him of his early years serving as a lobby boy in the hotel's glorious years under an exceptional concierge.                                                               | <!----> |\n| Mad Max: Fury Road                                     | (2015)     | 8.1 | \nIn a post-apocalyptic wasteland, a woman rebels against a tyrannical ruler in search for her homeland with the aid of a group of female prisoners, a psychotic worshiper, and a drifter named Max.                                              | <!----> |\n| Stand by Me                                            | (1986)     | 8.1 | \nAfter the death of one of his friends, a writer recounts a childhood journey with his friends to find the body of a missing boy.                                                                                                                | <!----> |\n| Pirates of the Caribbean: The Curse of the Black Pearl | (2003)     | 8.1 | \nBlacksmith Will Turner teams up with eccentric pirate \"Captain\" Jack Sparrow to save his love, the governor's daughter, from Jack's former pirate allies, who are now undead.                                                                   | <!----> |\n\n",
            "text/latex": "A data.frame: 50 × 5\n\\begin{tabular}{lllll}\n name & year & rating & synopsis & cast\\\\\n <chr> & <chr> & <chr> & <chr> & <chr>\\\\\n\\hline\n\t The Lord of the Rings: The Return of the King          & (2003)     & 9.0 & \nGandalf and Aragorn lead the World of Men against Sauron's army to draw his gaze from Frodo and Sam as they approach Mount Doom with the One Ring.                                                                                              & \\\\\n\t 777 Charlie                                            & (2022)     & 8.9 & \nDharma is stuck in a rut with his negative and lonely lifestyle and spends each day in the comfort of his loneliness. A pup named Charlie enters his life and gives him a new perspective towards it.                                           & \\\\\n\t The Lord of the Rings: The Fellowship of the Ring      & (2001)     & 8.8 & \nA meek Hobbit from the Shire and eight companions set out on a journey to destroy the powerful One Ring and save Middle-earth from the Dark Lord Sauron.                                                                                        & \\\\\n\t Inception                                              & (2010)     & 8.8 & \nA thief who steals corporate secrets through the use of dream-sharing technology is given the inverse task of planting an idea into the mind of a C.E.O., but his tragic past may doom the project and his team to disaster.                    & \\\\\n\t The Lord of the Rings: The Two Towers                  & (2002)     & 8.8 & \nWhile Frodo and Sam edge closer to Mordor with the help of the shifty Gollum, the divided fellowship makes a stand against Sauron's new ally, Saruman, and his hordes of Isengard.                                                              & \\\\\n\t The Good, the Bad and the Ugly                         & (1966)     & 8.8 & \nA bounty hunting scam joins two men in an uneasy alliance against a third in a race to find a fortune in gold buried in a remote cemetery.                                                                                                      & \\\\\n\t Star Wars: Episode V - The Empire Strikes Back         & (1980)     & 8.7 & \nAfter the Rebels are overpowered by the Empire, Luke Skywalker begins Jedi training with Yoda, while his friends are pursued across the galaxy by Darth Vader and bounty hunter Boba Fett.                                                      & \\\\\n\t Interstellar                                           & (2014)     & 8.6 & \nA team of explorers travel through a wormhole in space in an attempt to ensure humanity's survival.                                                                                                                                             & \\\\\n\t Star Wars                                              & (1977)     & 8.6 & \nLuke Skywalker joins forces with a Jedi Knight, a cocky pilot, a Wookiee and two droids to save the galaxy from the Empire's world-destroying battle station, while also attempting to rescue Princess Leia from the mysterious Darth Vader.    & \\\\\n\t Spirited Away                                          & (2001)     & 8.6 & \nDuring her family's move to the suburbs, a sullen 10-year-old girl wanders into a world ruled by gods, witches, and spirits, and where humans are changed into beasts.                                                                          & \\\\\n\t Back to the Future                                     & (1985)     & 8.5 & \nMarty McFly, a 17-year-old high school student, is accidentally sent 30 years into the past in a time-traveling DeLorean invented by his close friend, the maverick scientist Doc Brown.                                                        & \\\\\n\t Gladiator                                              & (2000)     & 8.5 & \nA former Roman General sets out to exact vengeance against the corrupt emperor who murdered his family and sent him into slavery.                                                                                                               & \\\\\n\t The Lion King                                          & (1994)     & 8.5 & \nLion prince Simba and his father are targeted by his bitter uncle, who wants to ascend the throne himself.                                                                                                                                      & \\\\\n\t Kaithi                                                 & (2019)     & 8.5 & \nDilli, an ex-convict, endeavours to meet his daughter for the first time after leaving prison. However, his attempts are interrupted due to a drug raid planned by Inspector Bejoy.                                                             & \\\\\n\t Avengers: Endgame                                      & (2019)     & 8.4 & \nAfter the devastating events of Avengers: Infinity War (2018), the universe is in ruins. With the help of remaining allies, the Avengers assemble once more in order to reverse Thanos' actions and restore balance to the universe.            & \\\\\n\t Spider-Man: Into the Spider-Verse                      & (2018)     & 8.4 & \nTeen Miles Morales becomes the Spider-Man of his universe, and must join with five spider-powered individuals from other dimensions to stop a threat for all realities.                                                                         & \\\\\n\t Avengers: Infinity War                                 & (2018)     & 8.4 & \nThe Avengers and their allies must be willing to sacrifice all in an attempt to defeat the powerful Thanos before his blitz of devastation and ruin puts an end to the universe.                                                                & \\\\\n\t Raiders of the Lost Ark                                & (1981)     & 8.4 & \nIn 1936, archaeologist and adventurer Indiana Jones is hired by the U.S. government to find the Ark of the Covenant before the Nazis can obtain its awesome powers.                                                                             & \\\\\n\t Aliens                                                 & (1986)     & 8.4 & \nDecades after surviving the Nostromo incident, Ellen Ripley is sent out to re-establish contact with a terraforming colony, but finds herself battling the Alien Queen and her offspring.                                                       & \\\\\n\t Coco                                                   & (I) (2017) & 8.4 & \nAspiring musician Miguel, confronted with his family's ancestral ban on music, enters the Land of the Dead to find his great-great-grandfather, a legendary singer.                                                                             & \\\\\n\t WALL·E                                                 & (2008)     & 8.4 & \nIn the distant future, a small waste-collecting robot inadvertently embarks on a space journey that will ultimately decide the fate of mankind.                                                                                                 & \\\\\n\t Princess Mononoke                                      & (1997)     & 8.4 & \nOn a journey to find the cure for a Tatarigami's curse, Ashitaka finds himself in the middle of a war between the forest gods and Tatara, a mining colony. In this quest he also meets San, the Mononoke Hime.                                  & \\\\\n\t Inglourious Basterds                                   & (2009)     & 8.3 & \nIn Nazi-occupied France during World War II, a plan to assassinate Nazi leaders by a group of Jewish U.S. soldiers coincides with a theatre owner's vengeful plans for the same.                                                                & \\\\\n\t 2001: A Space Odyssey                                  & (1968)     & 8.3 & \nAfter uncovering a mysterious artifact buried beneath the Lunar surface, a spacecraft is sent to Jupiter to find its origins - a spacecraft manned by two men and the supercomputer H.A.L. 9000.                                                & \\\\\n\t Toy Story                                              & (1995)     & 8.3 & \nA cowboy doll is profoundly threatened and jealous when a new spaceman action figure supplants him as top toy in a boy's bedroom.                                                                                                               & \\\\\n\t Star Wars: Episode VI - Return of the Jedi             & (1983)     & 8.3 & \nAfter rescuing Han Solo from Jabba the Hutt, the Rebels attempt to destroy the second Death Star, while Luke struggles to help Darth Vader back from the dark side.                                                                             & \\\\\n\t Up                                                     & (2009)     & 8.3 & \n78-year-old Carl Fredricksen travels to Paradise Falls in his house equipped with balloons, inadvertently taking a young stowaway.                                                                                                              & \\\\\n\t Lawrence of Arabia                                     & (1962)     & 8.3 & \nThe story of T.E. Lawrence, the English officer who successfully united and led the diverse, often warring, Arab tribes during World War I in order to fight the Turks.                                                                         & \\\\\n\t Toy Story 3                                            & (2010)     & 8.3 & \nThe toys are mistakenly delivered to a day-care center instead of the attic right before Andy leaves for college, and it's up to Woody to convince the other toys that they weren't abandoned and to return home.                               & \\\\\n\t Kantara                                                & (2022)     & 8.3 & \nIt involves culture of Kambala and Bhootha Kola. A human and nature conflict where Shiva is a rebel who defends his village and nature. A death leads to war between villagers and evil forces. Will he be able to regain peace in the village? & \\\\\n\t North by Northwest                                     & (1959)     & 8.3 & \nA New York City advertising executive goes on the run after being mistaken for a government agent by a group of foreign spies, and falls for a woman whose loyalties he begins to doubt.                                                        & \\\\\n\t Spider-Man: No Way Home                                & (2021)     & 8.2 & \nWith Spider-Man's identity now revealed, Peter asks Doctor Strange for help. When a spell goes wrong, dangerous foes from other worlds start to appear, forcing Peter to discover what it truly means to be Spider-Man.                         & \\\\\n\t Jurassic Park                                          & (1993)     & 8.2 & \nA pragmatic paleontologist touring an almost complete theme park on an island in Central America is tasked with protecting a couple of kids after a power failure causes the park's cloned dinosaurs to run loose.                              & \\\\\n\t Indiana Jones and the Last Crusade                     & (1989)     & 8.2 & \nIn 1938, after his father goes missing while pursuing the Holy Grail, Indiana Jones finds himself up against the Nazis again to stop them from obtaining its powers.                                                                            & \\\\\n\t Howl's Moving Castle                                   & (2004)     & 8.2 & \nWhen an unconfident young woman is cursed with an old body by a spiteful witch, her only chance of breaking the spell lies with a self-indulgent yet insecure young wizard and his companions in his legged, walking castle.                    & \\\\\n\t Inside Out                                             & (I) (2015) & 8.2 & \nAfter young Riley is uprooted from her Midwest life and moved to San Francisco, her emotions - Joy, Fear, Anger, Disgust and Sadness - conflict on how best to navigate a new city, house, and school.                                          & \\\\\n\t Finding Nemo                                           & (2003)     & 8.2 & \nAfter his son is captured in the Great Barrier Reef and taken to Sydney, a timid clownfish sets out on a journey to bring him home.                                                                                                             & \\\\\n\t Monty Python and the Holy Grail                        & (1975)     & 8.2 & \nKing Arthur and his Knights of the Round Table embark on a surreal, low-budget search for the Holy Grail, encountering many, very silly obstacles.                                                                                              & \\\\\n\t The Great Escape                                       & (1963)     & 8.2 & \nAllied prisoners of war plan for several hundred of their number to escape from a German camp during World War II.                                                                                                                              & \\\\\n\t Demon Slayer the Movie: Mugen Train                    & (2020)     & 8.2 & \nAfter his family was brutally murdered and his sister turned into a demon, Tanjiro Kamado's journey as a demon slayer began. Tanjiro and his comrades embark on a new mission aboard the Mugen Train, on track to despair.                      & \\\\\n\t The Bridge on the River Kwai                           & (1957)     & 8.2 & \nBritish POWs are forced to build a railway bridge across the river Kwai for their Japanese captors in occupied Burma, not knowing that the allied forces are planning a daring commando raid through the jungle to destroy it.                  & \\\\\n\t Klaus                                                  & (2019)     & 8.2 & \nA simple act of kindness always sparks another, even in a frozen, faraway place. When Smeerensburg's new postman, Jesper, befriends toymaker Klaus, their gifts melt an age-old feud and deliver a sleigh full of holiday traditions.           & \\\\\n\t The Treasure of the Sierra Madre                       & (1948)     & 8.2 & \nTwo down-on-their-luck Americans searching for work in 1920s Mexico convince an old prospector to help them mine for gold in the Sierra Madre Mountains.                                                                                        & \\\\\n\t The Wages of Fear                                      & (1953)     & 8.2 & \nIn a decrepit South American village, four men are hired to transport an urgent nitroglycerine shipment without the equipment that would make it safe.                                                                                          & \\\\\n\t Dersu Uzala                                            & (1975)     & 8.2 & \nThe Russian army sends an explorer on an expedition to the snowy Siberian wilderness where he makes friends with a seasoned local hunter.                                                                                                       & \\\\\n\t Harry Potter and the Deathly Hallows: Part 2           & (2011)     & 8.1 & \nHarry, Ron, and Hermione search for Voldemort's remaining Horcruxes in their effort to destroy the Dark Lord as the final battle rages on at Hogwarts.                                                                                          & \\\\\n\t The Grand Budapest Hotel                               & (2014)     & 8.1 & \nA writer encounters the owner of an aging high-class hotel, who tells him of his early years serving as a lobby boy in the hotel's glorious years under an exceptional concierge.                                                               & \\\\\n\t Mad Max: Fury Road                                     & (2015)     & 8.1 & \nIn a post-apocalyptic wasteland, a woman rebels against a tyrannical ruler in search for her homeland with the aid of a group of female prisoners, a psychotic worshiper, and a drifter named Max.                                              & \\\\\n\t Stand by Me                                            & (1986)     & 8.1 & \nAfter the death of one of his friends, a writer recounts a childhood journey with his friends to find the body of a missing boy.                                                                                                                & \\\\\n\t Pirates of the Caribbean: The Curse of the Black Pearl & (2003)     & 8.1 & \nBlacksmith Will Turner teams up with eccentric pirate \"Captain\" Jack Sparrow to save his love, the governor's daughter, from Jack's former pirate allies, who are now undead.                                                                   & \\\\\n\\end{tabular}\n"
          },
          "metadata": {}
        }
      ]
    }
  ],
  "metadata": {
    "colab": {
      "provenance": []
    },
    "kernelspec": {
      "display_name": "R",
      "name": "ir"
    },
    "language_info": {
      "name": "R"
    }
  },
  "nbformat": 4,
  "nbformat_minor": 0
}